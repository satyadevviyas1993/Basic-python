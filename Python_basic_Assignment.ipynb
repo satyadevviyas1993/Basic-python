{
  "nbformat": 4,
  "nbformat_minor": 0,
  "metadata": {
    "colab": {
      "provenance": []
    },
    "kernelspec": {
      "name": "python3",
      "display_name": "Python 3"
    },
    "language_info": {
      "name": "python"
    }
  },
  "cells": [
    {
      "cell_type": "code",
      "execution_count": null,
      "metadata": {
        "id": "h8UA5k0gH5TG"
      },
      "outputs": [],
      "source": []
    },
    {
      "cell_type": "markdown",
      "source": [
        "#Python Basic"
      ],
      "metadata": {
        "id": "D4ohiPzeIbSA"
      }
    },
    {
      "cell_type": "markdown",
      "source": [],
      "metadata": {
        "id": "k9sV2BHGIL2j"
      }
    },
    {
      "cell_type": "code",
      "source": [],
      "metadata": {
        "id": "SkKqPWjwIMUl"
      },
      "execution_count": null,
      "outputs": []
    },
    {
      "cell_type": "markdown",
      "source": [
        "**Q. 1. What is Python, and why is it popular ?**\n",
        "\n",
        "-Ans: Python is an interepted programming language and it is being used for data manipulation and data reading and for may other pragramming things.\n",
        "\n",
        "Why it is populer:- python is populer for many reasons like:\n",
        "1. Easy to learn and use.\n",
        "2. Versatile Applications.\n",
        "3. Large Standard Library.\n",
        "4. Cross-Platform.\n",
        "5. Open Source to use.\n",
        "\n",
        "\n"
      ],
      "metadata": {
        "id": "-dYbR5lJIqsL"
      }
    },
    {
      "cell_type": "markdown",
      "source": [
        "**Q. 2 What is an interpreter in Python ?**\n",
        "\n",
        "-Ans: An interpreter in Python is a program that reads and executes Python code line by line from a noral english and then translates Python instructions into a machine-readable form, checks for errors, converts the code into an intermediate format called bytecode, and then sends it to the Python Virtual Machine (PVM) to run on our computer."
      ],
      "metadata": {
        "id": "Y6xxJS8oLs6F"
      }
    },
    {
      "cell_type": "markdown",
      "source": [
        "**Q. 3 What are pre-defined keywords in Python ?**\n",
        "\n",
        "-Ans: Python has the pre-defined keywords which have the spacific meaning and roles in python language.\n",
        "\n",
        "-Example: False, None, True, and, as, del, if, elif, else and some more."
      ],
      "metadata": {
        "id": "vUAwQqUgMw-O"
      }
    },
    {
      "cell_type": "markdown",
      "source": [
        "**Q. 4 Can keywords be used as variable names ?**\n",
        "\n",
        "-Ans: No we can not use the keywords as a variable in python."
      ],
      "metadata": {
        "id": "YV8wby1HOKd4"
      }
    },
    {
      "cell_type": "markdown",
      "source": [
        "**Q. 5 What is mutability in Python ?**\n",
        "\n",
        "-Ans: Mutability in python can change and modify the object wihtout chnaging the identity of the same.\n",
        "\n",
        "Example: list, dictionary, sets.\n"
      ],
      "metadata": {
        "id": "uUrtswXAOe6N"
      }
    },
    {
      "cell_type": "markdown",
      "source": [
        "**Q.6 Why are lists mutable, but tuples are immutable ?**\n",
        "\n",
        "-Ans: List:- List are Mutable bcz here we hold and collect the data and then we can modify the same as per the requirment.\n",
        "\n",
        "and on the othere head the tuples are immutable bcz these are being used to fixed the data just to insure the intigirity and fixedness of the data."
      ],
      "metadata": {
        "id": "QP7E2NDUOdKE"
      }
    },
    {
      "cell_type": "markdown",
      "source": [
        "**Q.7 What is the difference between “==” and “is” operators in Python?**\n",
        "\n",
        "\n",
        "-Ans: In Python, the == operator checks whether the values of two objects are equal, meaning their content is the same.\n",
        "The is operator, on the other hand, checks whether two variables point to the same object in the data base."
      ],
      "metadata": {
        "id": "aFCo3_tFOJon"
      }
    },
    {
      "cell_type": "markdown",
      "source": [
        "**Q.8 What are logical operators in Python?**\n",
        "\n",
        "_Ans: Logical oprators in python:\n",
        "\n",
        "And, or not, notin, True-False."
      ],
      "metadata": {
        "id": "4GCkBFcdRQdN"
      }
    },
    {
      "cell_type": "markdown",
      "source": [
        "**Q.9 What is type casting in Python?**\n",
        "\n",
        "-Ans: Type casting in python is a process data type change like from int to floot and str and others.\n"
      ],
      "metadata": {
        "id": "Cxx5oGxdRqf6"
      }
    },
    {
      "cell_type": "markdown",
      "source": [
        "**Q.10 What is the difference between implicit and explicit type casting?**\n",
        "\n",
        "-Ans: **Implicit Type Casting:** Python automatically converts one data type to another without user intervention. For example, when an integer is added to a float, the integer is implicitly converted to a float.\n",
        "\n",
        "**Explicit Type Casting:** The programmer manually converts a variable's data type using built-in functions like int(), float(), str(), etc."
      ],
      "metadata": {
        "id": "_FGyl4yySTem"
      }
    },
    {
      "cell_type": "markdown",
      "source": [
        " **Q.11 What is the purpose of conditional statements in Python?**\n",
        "\n",
        " -Ans: The purpose of conditional statements in Python is to control the flow of a program by executing certain blocks of code only when specific conditions are met."
      ],
      "metadata": {
        "id": "WBwc7pLzSvIW"
      }
    },
    {
      "cell_type": "markdown",
      "source": [
        "**Q.12  How does the elif statement work?**\n",
        "\n",
        "-Ans: The elif statement in Python stands for \"else if\" and is used to check multiple conditions in a sequence within an if statement.\n",
        "\n",
        "If the first if condition is False, Python checks the first elif condition; if that is also False, it checks the next elif, and so on. If none of the conditions are True, the else block runs if provided."
      ],
      "metadata": {
        "id": "2F_hXbEGS-oS"
      }
    },
    {
      "cell_type": "markdown",
      "source": [
        "**Q.13 What is the difference between for and while loops?**\n",
        "\n",
        "-Ans: **For Loop**\n",
        "\n",
        "*Used to iterate over a sequence (like a list, tuple, string, or range).\n",
        "*The number of iterations is usually known or finite.\n",
        "*Automatically takes each item in the sequence one by one.\n",
        "\n",
        "Example:\n",
        "for i in x\n"
      ],
      "metadata": {
        "id": "ZfW3F0pTTduf"
      }
    },
    {
      "cell_type": "code",
      "source": [
        "for i in range (3):\n",
        "  print(i)"
      ],
      "metadata": {
        "colab": {
          "base_uri": "https://localhost:8080/"
        },
        "id": "H6RlMW6PUEGm",
        "outputId": "3db77db5-b196-4c57-b695-07cc44e61244"
      },
      "execution_count": null,
      "outputs": [
        {
          "output_type": "stream",
          "name": "stdout",
          "text": [
            "0\n",
            "1\n",
            "2\n"
          ]
        }
      ]
    },
    {
      "cell_type": "markdown",
      "source": [
        "**While Loop**\n",
        "\n",
        "*Repeats the execution of a block of code as long as a given condition is True.\n",
        "*Used when the number of iterations is not known upfront.\n",
        "*Condition is checked before each iteration pre-test loop.\n",
        "\n",
        "\n",
        "\n"
      ],
      "metadata": {
        "id": "12MB2fWtUUfA"
      }
    },
    {
      "cell_type": "code",
      "source": [
        "count = 0\n",
        "while count <4:\n",
        "  print (count)\n",
        "  count+=1"
      ],
      "metadata": {
        "colab": {
          "base_uri": "https://localhost:8080/"
        },
        "id": "k1m7QXDVUoei",
        "outputId": "62e87924-203b-45e3-8a55-58e085cb56f3"
      },
      "execution_count": null,
      "outputs": [
        {
          "output_type": "stream",
          "name": "stdout",
          "text": [
            "0\n",
            "1\n",
            "2\n",
            "3\n"
          ]
        }
      ]
    },
    {
      "cell_type": "markdown",
      "source": [
        "**Q.14 Describe a scenario where a while loop is more suitable than a for loop.?**\n",
        "\n",
        "\n",
        "-Ans: A scenario where a while loop is more suitable than a for loop is when the number of iterations is not known in advance and depends on a dynamic condition.\n",
        "\n"
      ],
      "metadata": {
        "id": "pd-QcLGLVP5n"
      }
    },
    {
      "cell_type": "code",
      "source": [
        "user_input = \"\"\n",
        "while user_input.lower() != \"exit\":\n",
        "    user_input = input(\"Enter something (type 'exit' to quit): \")\n",
        "    print(f\"You entered: {user_input}\")"
      ],
      "metadata": {
        "colab": {
          "base_uri": "https://localhost:8080/"
        },
        "id": "SHoQxxjfVzKh",
        "outputId": "0597aaf4-655d-4895-e28b-3ddd019f966b"
      },
      "execution_count": null,
      "outputs": [
        {
          "output_type": "stream",
          "name": "stdout",
          "text": [
            "Enter something (type 'exit' to quit): no\n",
            "You entered: no\n",
            "Enter something (type 'exit' to quit): type\n",
            "You entered: type\n",
            "Enter something (type 'exit' to quit): exit\n",
            "You entered: exit\n"
          ]
        }
      ]
    },
    {
      "cell_type": "code",
      "source": [],
      "metadata": {
        "id": "tQZIc5boVzz7"
      },
      "execution_count": null,
      "outputs": []
    },
    {
      "cell_type": "markdown",
      "source": [
        "#Practical Questions"
      ],
      "metadata": {
        "id": "22rVD8TLWSRZ"
      }
    },
    {
      "cell_type": "code",
      "source": [
        "# Q. 1 Write a Python program to print \"Hello, World!\n",
        "\n",
        "print (\"Hellow Word\")\n"
      ],
      "metadata": {
        "colab": {
          "base_uri": "https://localhost:8080/"
        },
        "id": "9J3YKY6VWbCX",
        "outputId": "22e03edd-3a60-40c1-8c0a-e63f4e798976"
      },
      "execution_count": null,
      "outputs": [
        {
          "output_type": "stream",
          "name": "stdout",
          "text": [
            "Hellow Word\n"
          ]
        }
      ]
    },
    {
      "cell_type": "code",
      "source": [
        "#Q.2 Write a Python program that displays your name and age\n",
        "dec = {\"Name\": \"Satya\", \"Age\": 32}"
      ],
      "metadata": {
        "id": "iMPogXxhWjO7"
      },
      "execution_count": null,
      "outputs": []
    },
    {
      "cell_type": "code",
      "source": [
        "dec"
      ],
      "metadata": {
        "colab": {
          "base_uri": "https://localhost:8080/"
        },
        "id": "uPQF93GEW-x2",
        "outputId": "cc7d5b81-adfb-46fa-93e8-650f60550830"
      },
      "execution_count": null,
      "outputs": [
        {
          "output_type": "execute_result",
          "data": {
            "text/plain": [
              "{'Name': 'Satya', 'Age': 32}"
            ]
          },
          "metadata": {},
          "execution_count": 17
        }
      ]
    },
    {
      "cell_type": "code",
      "source": [
        "#Or\n",
        "name = (\"satya\")\n",
        "age = (32)"
      ],
      "metadata": {
        "id": "l-N4dYqpXD5G"
      },
      "execution_count": null,
      "outputs": []
    },
    {
      "cell_type": "code",
      "source": [
        "print (name)\n",
        "print(age)"
      ],
      "metadata": {
        "colab": {
          "base_uri": "https://localhost:8080/"
        },
        "id": "CzCZnptcXclW",
        "outputId": "c8f81495-cf23-4178-a05a-a9f3f134cf33"
      },
      "execution_count": null,
      "outputs": [
        {
          "output_type": "stream",
          "name": "stdout",
          "text": [
            "satya\n",
            "32\n"
          ]
        }
      ]
    },
    {
      "cell_type": "code",
      "source": [
        "#Q.3 Write code to print all the pre-defined keywords in Python using the keyword library?\n",
        "\n",
        "help (\"keywords\")"
      ],
      "metadata": {
        "colab": {
          "base_uri": "https://localhost:8080/"
        },
        "id": "iFlcFjUuXgub",
        "outputId": "6aa198d0-4bee-4423-fa2e-abb782a29cff"
      },
      "execution_count": null,
      "outputs": [
        {
          "output_type": "stream",
          "name": "stdout",
          "text": [
            "\n",
            "Here is a list of the Python keywords.  Enter any keyword to get more help.\n",
            "\n",
            "False               class               from                or\n",
            "None                continue            global              pass\n",
            "True                def                 if                  raise\n",
            "and                 del                 import              return\n",
            "as                  elif                in                  try\n",
            "assert              else                is                  while\n",
            "async               except              lambda              with\n",
            "await               finally             nonlocal            yield\n",
            "break               for                 not                 \n",
            "\n"
          ]
        }
      ]
    },
    {
      "cell_type": "code",
      "source": [
        "#Q.4 Write a program that checks if a given word is a Python keyword?\n",
        "\n",
        "\n",
        "import keyword\n",
        "\n",
        "word = input(\"Enter a word to check if it is a Python keyword: \")\n",
        "\n",
        "if keyword.iskeyword(word):\n",
        "    print(f\"'{word}' is a Python keyword.\")\n",
        "else:\n",
        "    print(f\"'{word}' is NOT a Python keyword.\")"
      ],
      "metadata": {
        "colab": {
          "base_uri": "https://localhost:8080/"
        },
        "id": "-6pNC93XX_y8",
        "outputId": "ffa3f2a6-5485-41c6-a8d9-f7751f9d0a79"
      },
      "execution_count": null,
      "outputs": [
        {
          "output_type": "stream",
          "name": "stdout",
          "text": [
            "Enter a word to check if it is a Python keyword: True\n",
            "'True' is a Python keyword.\n"
          ]
        }
      ]
    },
    {
      "cell_type": "code",
      "source": [
        "# Q.5 Create a list and tuple in Python, and demonstrate how attempting to change an element works differently\n",
        "#for each.\n",
        "\n",
        "my_list = [\"satya\", \"neha\", 2, 5, 6]\n",
        "my_tuple  = (\"satya\", \"neha\", 2, 5, 6)"
      ],
      "metadata": {
        "id": "A6ZNUNKFYShz"
      },
      "execution_count": null,
      "outputs": []
    },
    {
      "cell_type": "code",
      "source": [
        "my_list [1] = \"Kiyansh\""
      ],
      "metadata": {
        "id": "s4kc8VeTZSAe"
      },
      "execution_count": null,
      "outputs": []
    },
    {
      "cell_type": "code",
      "source": [
        "my_list"
      ],
      "metadata": {
        "colab": {
          "base_uri": "https://localhost:8080/"
        },
        "id": "xWURfStzZZJP",
        "outputId": "6e736a23-3462-48e7-8dc0-da2a30d4ba7c"
      },
      "execution_count": null,
      "outputs": [
        {
          "output_type": "execute_result",
          "data": {
            "text/plain": [
              "['satya', 'Kiyansh', 2, 5, 6]"
            ]
          },
          "metadata": {},
          "execution_count": 34
        }
      ]
    },
    {
      "cell_type": "code",
      "source": [
        "my_tuple [0]"
      ],
      "metadata": {
        "colab": {
          "base_uri": "https://localhost:8080/",
          "height": 35
        },
        "id": "w7aKxuz-ZahJ",
        "outputId": "5bdc5dac-ee0b-4d1f-a8d7-1ba297cf8aca"
      },
      "execution_count": null,
      "outputs": [
        {
          "output_type": "execute_result",
          "data": {
            "text/plain": [
              "'satya'"
            ],
            "application/vnd.google.colaboratory.intrinsic+json": {
              "type": "string"
            }
          },
          "metadata": {},
          "execution_count": 35
        }
      ]
    },
    {
      "cell_type": "code",
      "source": [
        "my_tuple [0] = \"neha\" ## in tuple we can not make the changes"
      ],
      "metadata": {
        "colab": {
          "base_uri": "https://localhost:8080/",
          "height": 141
        },
        "id": "v4tZPnj4ZeiG",
        "outputId": "de516076-c5d7-4228-b0d2-cf8d45342b6d"
      },
      "execution_count": null,
      "outputs": [
        {
          "output_type": "error",
          "ename": "TypeError",
          "evalue": "'tuple' object does not support item assignment",
          "traceback": [
            "\u001b[0;31m---------------------------------------------------------------------------\u001b[0m",
            "\u001b[0;31mTypeError\u001b[0m                                 Traceback (most recent call last)",
            "\u001b[0;32m/tmp/ipython-input-3397131205.py\u001b[0m in \u001b[0;36m<cell line: 0>\u001b[0;34m()\u001b[0m\n\u001b[0;32m----> 1\u001b[0;31m \u001b[0mmy_tuple\u001b[0m \u001b[0;34m[\u001b[0m\u001b[0;36m0\u001b[0m\u001b[0;34m]\u001b[0m \u001b[0;34m=\u001b[0m \u001b[0;34m\"neha\"\u001b[0m\u001b[0;34m\u001b[0m\u001b[0;34m\u001b[0m\u001b[0m\n\u001b[0m",
            "\u001b[0;31mTypeError\u001b[0m: 'tuple' object does not support item assignment"
          ]
        }
      ]
    },
    {
      "cell_type": "code",
      "source": [
        "# Q.6  Write a function to demonstrate the behavior of mutable and immutable arguments?\n",
        "\n",
        "a = [1, 2, 3, 4]\n",
        "b = (6, 7, 8, 9)\n",
        "a"
      ],
      "metadata": {
        "colab": {
          "base_uri": "https://localhost:8080/"
        },
        "id": "EIM_whvYZjna",
        "outputId": "1c0d4b62-9b32-40cd-ef08-c1d708fcfdc2"
      },
      "execution_count": null,
      "outputs": [
        {
          "output_type": "execute_result",
          "data": {
            "text/plain": [
              "[1, 2, 3, 4]"
            ]
          },
          "metadata": {},
          "execution_count": 39
        }
      ]
    },
    {
      "cell_type": "code",
      "source": [
        "a.append (100) #mutable"
      ],
      "metadata": {
        "id": "GBUrcVdcapAi"
      },
      "execution_count": null,
      "outputs": []
    },
    {
      "cell_type": "code",
      "source": [
        "a"
      ],
      "metadata": {
        "colab": {
          "base_uri": "https://localhost:8080/"
        },
        "id": "ttczzWcdbaxA",
        "outputId": "519c51a7-2b16-4851-90aa-0104393727bb"
      },
      "execution_count": null,
      "outputs": [
        {
          "output_type": "execute_result",
          "data": {
            "text/plain": [
              "[1, 2, 3, 4, 100]"
            ]
          },
          "metadata": {},
          "execution_count": 42
        }
      ]
    },
    {
      "cell_type": "code",
      "source": [
        "type (a)"
      ],
      "metadata": {
        "colab": {
          "base_uri": "https://localhost:8080/"
        },
        "id": "uPS246e4be3z",
        "outputId": "851ef54e-8067-4296-ecc0-d443ae068a33"
      },
      "execution_count": null,
      "outputs": [
        {
          "output_type": "execute_result",
          "data": {
            "text/plain": [
              "list"
            ]
          },
          "metadata": {},
          "execution_count": 43
        }
      ]
    },
    {
      "cell_type": "code",
      "source": [
        "type (b)"
      ],
      "metadata": {
        "colab": {
          "base_uri": "https://localhost:8080/"
        },
        "id": "15VSlVe5biSE",
        "outputId": "d4556bf8-55ad-4511-a7da-8b3c4c10a7ba"
      },
      "execution_count": null,
      "outputs": [
        {
          "output_type": "execute_result",
          "data": {
            "text/plain": [
              "tuple"
            ]
          },
          "metadata": {},
          "execution_count": 44
        }
      ]
    },
    {
      "cell_type": "code",
      "source": [
        "b.append (10) #Here in tuple we can not make any addiiton, that is why this is immutable."
      ],
      "metadata": {
        "colab": {
          "base_uri": "https://localhost:8080/",
          "height": 141
        },
        "id": "mvLIVwjgbkXZ",
        "outputId": "497bdf59-6ba2-4266-a3fb-ca43d2654dcf"
      },
      "execution_count": null,
      "outputs": [
        {
          "output_type": "error",
          "ename": "AttributeError",
          "evalue": "'tuple' object has no attribute 'append'",
          "traceback": [
            "\u001b[0;31m---------------------------------------------------------------------------\u001b[0m",
            "\u001b[0;31mAttributeError\u001b[0m                            Traceback (most recent call last)",
            "\u001b[0;32m/tmp/ipython-input-139692926.py\u001b[0m in \u001b[0;36m<cell line: 0>\u001b[0;34m()\u001b[0m\n\u001b[0;32m----> 1\u001b[0;31m \u001b[0mb\u001b[0m\u001b[0;34m.\u001b[0m\u001b[0mappend\u001b[0m \u001b[0;34m(\u001b[0m\u001b[0;36m10\u001b[0m\u001b[0;34m)\u001b[0m\u001b[0;34m\u001b[0m\u001b[0;34m\u001b[0m\u001b[0m\n\u001b[0m",
            "\u001b[0;31mAttributeError\u001b[0m: 'tuple' object has no attribute 'append'"
          ]
        }
      ]
    },
    {
      "cell_type": "code",
      "source": [
        "#Q 7. Write a program that performs basic arithmetic operations on two user-input numbers.\n",
        "\n",
        "a = int (input(\"enter frist number:\"))\n",
        "b = int (input(\"enter second number:\"))\n",
        "print (\"add:\", a+b )\n",
        "print (\"Subtract:\", b-a)\n",
        "print (\"Multiply:\", a*b)\n",
        "print (\"Divide:\", a/b)\n"
      ],
      "metadata": {
        "colab": {
          "base_uri": "https://localhost:8080/"
        },
        "id": "oaq5s_6Ubohq",
        "outputId": "05d4b4d5-5dc6-4f5b-deb1-6f827bc47b13"
      },
      "execution_count": null,
      "outputs": [
        {
          "output_type": "stream",
          "name": "stdout",
          "text": [
            "enter frist number:10\n",
            "enter second number:50\n",
            "add: 60\n",
            "Subtract: 40\n",
            "Multiply: 500\n",
            "Divide: 0.2\n"
          ]
        }
      ]
    },
    {
      "cell_type": "code",
      "source": [
        "6"
      ],
      "metadata": {
        "colab": {
          "base_uri": "https://localhost:8080/"
        },
        "id": "e8-q887bc617",
        "outputId": "b6fa283c-33ad-475e-a8f1-350f1c94797c"
      },
      "execution_count": null,
      "outputs": [
        {
          "output_type": "execute_result",
          "data": {
            "text/plain": [
              "6"
            ]
          },
          "metadata": {},
          "execution_count": 55
        }
      ]
    },
    {
      "cell_type": "code",
      "source": [
        "#Q.8. Write a program to demonstrate the use of logical operators.\n",
        "\n",
        "x = True\n",
        "y = False\n",
        "print (\"x and y is\", x and y )"
      ],
      "metadata": {
        "colab": {
          "base_uri": "https://localhost:8080/"
        },
        "id": "X47SfeRmeZZp",
        "outputId": "5ee78e6f-78af-4f29-ad89-9ecd3b8ef543"
      },
      "execution_count": null,
      "outputs": [
        {
          "output_type": "stream",
          "name": "stdout",
          "text": [
            "x and y is False\n"
          ]
        }
      ]
    },
    {
      "cell_type": "code",
      "source": [
        "a = 10\n",
        "b = 20\n",
        "a==b"
      ],
      "metadata": {
        "colab": {
          "base_uri": "https://localhost:8080/"
        },
        "id": "J3pjFQZnfYQT",
        "outputId": "39f11772-7ec2-4ffc-e20f-9b26cc31f478"
      },
      "execution_count": null,
      "outputs": [
        {
          "output_type": "execute_result",
          "data": {
            "text/plain": [
              "False"
            ]
          },
          "metadata": {},
          "execution_count": 62
        }
      ]
    },
    {
      "cell_type": "code",
      "source": [
        "type (a)"
      ],
      "metadata": {
        "colab": {
          "base_uri": "https://localhost:8080/"
        },
        "id": "JoDEOzPkf-OM",
        "outputId": "14555da9-d1bf-4f70-de6b-7619c0413935"
      },
      "execution_count": null,
      "outputs": [
        {
          "output_type": "execute_result",
          "data": {
            "text/plain": [
              "int"
            ]
          },
          "metadata": {},
          "execution_count": 64
        }
      ]
    },
    {
      "cell_type": "code",
      "source": [
        "# more exmaple\n",
        "name = [\"satya\", \"neha\", \"kiyansh\"]\n",
        "\"satya\" in name"
      ],
      "metadata": {
        "colab": {
          "base_uri": "https://localhost:8080/"
        },
        "id": "gi9AUwCNgAwe",
        "outputId": "8462d100-b5fc-4db1-ca64-df9dcd79c9c6"
      },
      "execution_count": null,
      "outputs": [
        {
          "output_type": "execute_result",
          "data": {
            "text/plain": [
              "True"
            ]
          },
          "metadata": {},
          "execution_count": 65
        }
      ]
    },
    {
      "cell_type": "code",
      "source": [
        "\"Papa\" not in name"
      ],
      "metadata": {
        "colab": {
          "base_uri": "https://localhost:8080/"
        },
        "id": "6bRZGPANgTd8",
        "outputId": "153b5669-fc60-42d5-e78d-9860c7cb0eb3"
      },
      "execution_count": null,
      "outputs": [
        {
          "output_type": "execute_result",
          "data": {
            "text/plain": [
              "True"
            ]
          },
          "metadata": {},
          "execution_count": 67
        }
      ]
    },
    {
      "cell_type": "code",
      "source": [
        "# Q.9  Write a Python program to convert user input from string to integer, float, and boolean types.\n",
        "\n",
        "test = input(\"enter a value\")\n",
        "#Convert to integer\n",
        "Int_Value = int(test)\n",
        "\n",
        "\n"
      ],
      "metadata": {
        "colab": {
          "base_uri": "https://localhost:8080/"
        },
        "id": "YOJGVtNdgZor",
        "outputId": "af27cd3e-6859-4930-cc0d-d4d3ecfef276"
      },
      "execution_count": null,
      "outputs": [
        {
          "name": "stdout",
          "output_type": "stream",
          "text": [
            "enter a value10\n"
          ]
        }
      ]
    },
    {
      "cell_type": "code",
      "source": [
        "Int_Value"
      ],
      "metadata": {
        "colab": {
          "base_uri": "https://localhost:8080/"
        },
        "id": "Hyv52gxkiAVA",
        "outputId": "f4cb2e48-68d6-4169-8a16-ce743606f686"
      },
      "execution_count": null,
      "outputs": [
        {
          "output_type": "execute_result",
          "data": {
            "text/plain": [
              "10"
            ]
          },
          "metadata": {},
          "execution_count": 70
        }
      ]
    },
    {
      "cell_type": "code",
      "source": [
        "type (Int_Value)"
      ],
      "metadata": {
        "colab": {
          "base_uri": "https://localhost:8080/"
        },
        "id": "C0mEMtsqiHDg",
        "outputId": "60c21b51-6b2b-448c-b60f-ca037d23170e"
      },
      "execution_count": null,
      "outputs": [
        {
          "output_type": "execute_result",
          "data": {
            "text/plain": [
              "int"
            ]
          },
          "metadata": {},
          "execution_count": 71
        }
      ]
    },
    {
      "cell_type": "code",
      "source": [
        "type (test)"
      ],
      "metadata": {
        "colab": {
          "base_uri": "https://localhost:8080/"
        },
        "id": "hZW2lDGxiKH9",
        "outputId": "f3d9a8bd-8d8a-4c71-e652-d723177fb9c8"
      },
      "execution_count": null,
      "outputs": [
        {
          "output_type": "execute_result",
          "data": {
            "text/plain": [
              "str"
            ]
          },
          "metadata": {},
          "execution_count": 73
        },
        {
          "output_type": "execute_result",
          "data": {
            "text/plain": [
              "str"
            ]
          },
          "metadata": {},
          "execution_count": 74
        }
      ]
    },
    {
      "cell_type": "code",
      "source": [
        "test"
      ],
      "metadata": {
        "colab": {
          "base_uri": "https://localhost:8080/",
          "height": 35
        },
        "id": "YwAToLl5iPxc",
        "outputId": "9de705d8-fdce-4858-dc98-9051c54c8dfd"
      },
      "execution_count": null,
      "outputs": [
        {
          "output_type": "execute_result",
          "data": {
            "text/plain": [
              "'10'"
            ],
            "application/vnd.google.colaboratory.intrinsic+json": {
              "type": "string"
            }
          },
          "metadata": {},
          "execution_count": 75
        }
      ]
    },
    {
      "cell_type": "code",
      "source": [
        "Floot_Value = float(test)"
      ],
      "metadata": {
        "id": "xxzo-MtTiYuF"
      },
      "execution_count": null,
      "outputs": []
    },
    {
      "cell_type": "code",
      "source": [
        "type (test)"
      ],
      "metadata": {
        "colab": {
          "base_uri": "https://localhost:8080/"
        },
        "id": "ph2VNnCbipyt",
        "outputId": "8a9a1360-a3a2-4f84-fc80-c7a76d930dd5"
      },
      "execution_count": null,
      "outputs": [
        {
          "output_type": "execute_result",
          "data": {
            "text/plain": [
              "str"
            ]
          },
          "metadata": {},
          "execution_count": 79
        }
      ]
    },
    {
      "cell_type": "code",
      "source": [
        "Floot_Value"
      ],
      "metadata": {
        "colab": {
          "base_uri": "https://localhost:8080/"
        },
        "id": "uW6DPA70ivpf",
        "outputId": "cc43fd90-aa06-4528-b275-469d08ebcbbe"
      },
      "execution_count": null,
      "outputs": [
        {
          "output_type": "execute_result",
          "data": {
            "text/plain": [
              "10.0"
            ]
          },
          "metadata": {},
          "execution_count": 81
        }
      ]
    },
    {
      "cell_type": "code",
      "source": [
        "type (Floot_Value)"
      ],
      "metadata": {
        "colab": {
          "base_uri": "https://localhost:8080/"
        },
        "id": "-rn3Ft-ni3nw",
        "outputId": "01aca913-aed3-4e31-95dc-ce1e910c1d1c"
      },
      "execution_count": null,
      "outputs": [
        {
          "output_type": "execute_result",
          "data": {
            "text/plain": [
              "float"
            ]
          },
          "metadata": {},
          "execution_count": 84
        }
      ]
    },
    {
      "cell_type": "code",
      "source": [
        "Bool_value = bool(test)"
      ],
      "metadata": {
        "id": "Zqget0Hai584"
      },
      "execution_count": null,
      "outputs": []
    },
    {
      "cell_type": "code",
      "source": [
        "Bool_value"
      ],
      "metadata": {
        "colab": {
          "base_uri": "https://localhost:8080/"
        },
        "id": "PfSbP194jNxP",
        "outputId": "ee50c873-fcb3-4607-bc78-21b9b98073c2"
      },
      "execution_count": null,
      "outputs": [
        {
          "output_type": "execute_result",
          "data": {
            "text/plain": [
              "True"
            ]
          },
          "metadata": {},
          "execution_count": 86
        }
      ]
    },
    {
      "cell_type": "code",
      "source": [
        "#Q 10. Write code to demonstrate type casting with list elements.\n",
        "My_list = [15, 20, 25, 40, 50.4, 100.1]\n",
        "type (My_list)"
      ],
      "metadata": {
        "colab": {
          "base_uri": "https://localhost:8080/"
        },
        "id": "OiagV-sNjPqB",
        "outputId": "a42543f0-38df-4d20-9adb-2eb44a60d207"
      },
      "execution_count": null,
      "outputs": [
        {
          "output_type": "execute_result",
          "data": {
            "text/plain": [
              "list"
            ]
          },
          "metadata": {},
          "execution_count": 87
        }
      ]
    },
    {
      "cell_type": "code",
      "source": [
        "int_list = []\n",
        "for item in My_list:\n",
        "        int_list.append(int(item))\n",
        "\n",
        "\n",
        "float_list = [float(item) for item in My_list]\n",
        "\n"
      ],
      "metadata": {
        "id": "U7aBnEnbkb75"
      },
      "execution_count": 109,
      "outputs": []
    },
    {
      "cell_type": "code",
      "source": [
        "int_list"
      ],
      "metadata": {
        "id": "KiN7epkNk991",
        "colab": {
          "base_uri": "https://localhost:8080/"
        },
        "outputId": "c7effe3a-edf0-4037-dc01-b6399c31d7e1"
      },
      "execution_count": 108,
      "outputs": [
        {
          "output_type": "execute_result",
          "data": {
            "text/plain": [
              "[15, 20, 25, 40, 50, 100]"
            ]
          },
          "metadata": {},
          "execution_count": 108
        }
      ]
    },
    {
      "cell_type": "code",
      "source": [],
      "metadata": {
        "colab": {
          "base_uri": "https://localhost:8080/"
        },
        "id": "0AeEzLVrlmvg",
        "outputId": "5faa4374-ad42-4748-b6b9-192737bc8660"
      },
      "execution_count": 94,
      "outputs": [
        {
          "output_type": "execute_result",
          "data": {
            "text/plain": [
              "list"
            ]
          },
          "metadata": {},
          "execution_count": 94
        }
      ]
    },
    {
      "cell_type": "code",
      "source": [
        "float_list"
      ],
      "metadata": {
        "colab": {
          "base_uri": "https://localhost:8080/"
        },
        "id": "eDV5m5yqlqHe",
        "outputId": "c4313eb4-7661-4e38-d1c6-83b95aee435e"
      },
      "execution_count": 110,
      "outputs": [
        {
          "output_type": "execute_result",
          "data": {
            "text/plain": [
              "[15.0, 20.0, 25.0, 40.0, 50.4, 100.1]"
            ]
          },
          "metadata": {},
          "execution_count": 110
        }
      ]
    },
    {
      "cell_type": "code",
      "source": [
        "#Q 11.Write a program that checks if a number is positive, negative, or zero.\n",
        "\n",
        "num =float(input(\"Enter a number: \"))\n",
        "\n",
        "if num > 0:\n",
        "    print(\"The number is positive.\")\n",
        "elif num < 0:\n",
        "    print(\"The number is negative.\")\n",
        "else:\n",
        "    print(\"The number is zero.\")\n",
        "\n",
        "\n"
      ],
      "metadata": {
        "colab": {
          "base_uri": "https://localhost:8080/"
        },
        "id": "r5agq58umEV8",
        "outputId": "1dfb436b-1782-4f05-fd1d-a2f70936c178"
      },
      "execution_count": 117,
      "outputs": [
        {
          "output_type": "stream",
          "name": "stdout",
          "text": [
            "Enter a number: 10\n",
            "The number is positive.\n"
          ]
        }
      ]
    },
    {
      "cell_type": "code",
      "source": [
        "#Q 12. Write a for loop to print numbers from 1 to 10\n",
        "\n",
        "for i in range (0,11):\n",
        "  print (i)\n"
      ],
      "metadata": {
        "colab": {
          "base_uri": "https://localhost:8080/"
        },
        "id": "e7MIcf5CnyjS",
        "outputId": "bb13463b-a643-4a40-8e97-4ec4d66050c8"
      },
      "execution_count": 121,
      "outputs": [
        {
          "output_type": "stream",
          "name": "stdout",
          "text": [
            "0\n",
            "1\n",
            "2\n",
            "3\n",
            "4\n",
            "5\n",
            "6\n",
            "7\n",
            "8\n",
            "9\n",
            "10\n"
          ]
        }
      ]
    },
    {
      "cell_type": "code",
      "source": [
        "#Q 13. Write a Python program to find the sum of all even numbers between 1 and 50\n",
        "total = 0\n",
        "for num in range(2, 51, 2):\n",
        "    total += num # Start at 2, go up to 50, step by 2 to get even numbers\n",
        "\n",
        "print (\"Sum of all even numbers between 1 to 50 is:\", total)\n"
      ],
      "metadata": {
        "colab": {
          "base_uri": "https://localhost:8080/"
        },
        "id": "aEPlqU6oo_2c",
        "outputId": "7d98d7e3-807d-468e-ae6d-104a1cf1949d"
      },
      "execution_count": 126,
      "outputs": [
        {
          "output_type": "stream",
          "name": "stdout",
          "text": [
            "Sum of all even numbers between 1 to 50 is: 650\n"
          ]
        }
      ]
    },
    {
      "cell_type": "code",
      "source": [
        "#Q14. Write a program to reverse a string using a while loop.\n",
        "\n",
        "input_string = \"Hello\"\n",
        "\n",
        "reversed_string = \"\"\n",
        "index = len(input_string) - 1  # start from last character\n",
        "\n",
        "while index >= 0:\n",
        "    reversed_string += input_string[index]\n",
        "    index -= 1\n",
        "\n",
        "print(\"Original string:\", input_string)\n",
        "print(\"Reversed string:\", reversed_string)"
      ],
      "metadata": {
        "colab": {
          "base_uri": "https://localhost:8080/"
        },
        "id": "eSoFFnJVqypM",
        "outputId": "c59bde64-fcdc-4be5-cb8e-af246d45629a"
      },
      "execution_count": 127,
      "outputs": [
        {
          "output_type": "stream",
          "name": "stdout",
          "text": [
            "Original string: Hello\n",
            "Reversed string: olleH\n"
          ]
        }
      ]
    },
    {
      "cell_type": "code",
      "source": [
        "#Q15.  Write a Python program to calculate the factorial of a number provided by the user using a while loop.\n",
        "\n",
        "num = int(input(\"Enter a number: \"))\n",
        "\n",
        "factorial = 1\n",
        "i = 1\n",
        "\n",
        "while i <= num:\n",
        "    factorial *= i\n",
        "    i += 1\n",
        "\n",
        "print(f\"Factorial of {num} is {factorial}\")"
      ],
      "metadata": {
        "colab": {
          "base_uri": "https://localhost:8080/"
        },
        "id": "j7P2Dl_ZrHfT",
        "outputId": "904b2525-45c5-466b-d32f-cd509f663429"
      },
      "execution_count": 128,
      "outputs": [
        {
          "output_type": "stream",
          "name": "stdout",
          "text": [
            "Enter a number: 5\n",
            "Factorial of 5 is 120\n"
          ]
        }
      ]
    },
    {
      "cell_type": "code",
      "source": [],
      "metadata": {
        "id": "F_12Bi5-rfrk"
      },
      "execution_count": null,
      "outputs": []
    }
  ]
}